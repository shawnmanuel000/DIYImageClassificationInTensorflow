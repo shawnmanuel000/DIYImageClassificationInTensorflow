{
  "nbformat": 4,
  "nbformat_minor": 0,
  "metadata": {
    "colab": {
      "name": "ImageClassificationWithConvolutionalNetworks.ipynb",
      "version": "0.3.2",
      "provenance": []
    },
    "kernelspec": {
      "name": "python3",
      "display_name": "Python 3"
    }
  },
  "cells": [
    {
      "metadata": {
        "id": "bFmzJvaXRaG_",
        "colab_type": "code",
        "outputId": "9801d754-2397-40af-ed1d-53b72944d9e8",
        "colab": {
          "base_uri": "https://localhost:8080/",
          "height": 34
        }
      },
      "cell_type": "code",
      "source": [
        "import tensorflow as tf\n",
        "import numpy as np\n",
        "import matplotlib.pyplot as plt\n",
        "np.set_printoptions(linewidth=150)\n",
        "print(\"Tensorflow version:\", tf.__version__)"
      ],
      "execution_count": 1,
      "outputs": [
        {
          "output_type": "stream",
          "text": [
            "Tensorflow version: 1.12.0\n"
          ],
          "name": "stdout"
        }
      ]
    },
    {
      "metadata": {
        "id": "MzMhk9meUgTQ",
        "colab_type": "code",
        "outputId": "d7c85ce8-5f0c-4a57-ce65-497d38abaa76",
        "colab": {
          "base_uri": "https://localhost:8080/",
          "height": 51
        }
      },
      "cell_type": "code",
      "source": [
        "# Source: https://www.tensorflow.org/tutorials/\n",
        "mnist = tf.keras.datasets.mnist\n",
        "(x_train, y_train), (x_test, y_test) = mnist.load_data()"
      ],
      "execution_count": 2,
      "outputs": [
        {
          "output_type": "stream",
          "text": [
            "Downloading data from https://storage.googleapis.com/tensorflow/tf-keras-datasets/mnist.npz\n",
            "11493376/11490434 [==============================] - 0s 0us/step\n"
          ],
          "name": "stdout"
        }
      ]
    },
    {
      "metadata": {
        "id": "6axRtK9oVnN3",
        "colab_type": "code",
        "outputId": "0b86b407-38bb-4411-c2f0-dba0ebcb3b86",
        "colab": {
          "base_uri": "https://localhost:8080/",
          "height": 51
        }
      },
      "cell_type": "code",
      "source": [
        "print(x_train.shape)\n",
        "print(y_train.shape)"
      ],
      "execution_count": 3,
      "outputs": [
        {
          "output_type": "stream",
          "text": [
            "(60000, 28, 28)\n",
            "(60000,)\n"
          ],
          "name": "stdout"
        }
      ]
    },
    {
      "metadata": {
        "id": "FJblbubtWV-c",
        "colab_type": "code",
        "outputId": "de3ba5e3-7df6-4ce6-d191-8a2502153665",
        "colab": {
          "base_uri": "https://localhost:8080/",
          "height": 857
        }
      },
      "cell_type": "code",
      "source": [
        "print(y_train[0])\n",
        "print(x_train[0])\n",
        "\n",
        "plt.gray()\n",
        "plt.imshow(x_train[0])"
      ],
      "execution_count": 4,
      "outputs": [
        {
          "output_type": "stream",
          "text": [
            "5\n",
            "[[  0   0   0   0   0   0   0   0   0   0   0   0   0   0   0   0   0   0   0   0   0   0   0   0   0   0   0   0]\n",
            " [  0   0   0   0   0   0   0   0   0   0   0   0   0   0   0   0   0   0   0   0   0   0   0   0   0   0   0   0]\n",
            " [  0   0   0   0   0   0   0   0   0   0   0   0   0   0   0   0   0   0   0   0   0   0   0   0   0   0   0   0]\n",
            " [  0   0   0   0   0   0   0   0   0   0   0   0   0   0   0   0   0   0   0   0   0   0   0   0   0   0   0   0]\n",
            " [  0   0   0   0   0   0   0   0   0   0   0   0   0   0   0   0   0   0   0   0   0   0   0   0   0   0   0   0]\n",
            " [  0   0   0   0   0   0   0   0   0   0   0   0   3  18  18  18 126 136 175  26 166 255 247 127   0   0   0   0]\n",
            " [  0   0   0   0   0   0   0   0  30  36  94 154 170 253 253 253 253 253 225 172 253 242 195  64   0   0   0   0]\n",
            " [  0   0   0   0   0   0   0  49 238 253 253 253 253 253 253 253 253 251  93  82  82  56  39   0   0   0   0   0]\n",
            " [  0   0   0   0   0   0   0  18 219 253 253 253 253 253 198 182 247 241   0   0   0   0   0   0   0   0   0   0]\n",
            " [  0   0   0   0   0   0   0   0  80 156 107 253 253 205  11   0  43 154   0   0   0   0   0   0   0   0   0   0]\n",
            " [  0   0   0   0   0   0   0   0   0  14   1 154 253  90   0   0   0   0   0   0   0   0   0   0   0   0   0   0]\n",
            " [  0   0   0   0   0   0   0   0   0   0   0 139 253 190   2   0   0   0   0   0   0   0   0   0   0   0   0   0]\n",
            " [  0   0   0   0   0   0   0   0   0   0   0  11 190 253  70   0   0   0   0   0   0   0   0   0   0   0   0   0]\n",
            " [  0   0   0   0   0   0   0   0   0   0   0   0  35 241 225 160 108   1   0   0   0   0   0   0   0   0   0   0]\n",
            " [  0   0   0   0   0   0   0   0   0   0   0   0   0  81 240 253 253 119  25   0   0   0   0   0   0   0   0   0]\n",
            " [  0   0   0   0   0   0   0   0   0   0   0   0   0   0  45 186 253 253 150  27   0   0   0   0   0   0   0   0]\n",
            " [  0   0   0   0   0   0   0   0   0   0   0   0   0   0   0  16  93 252 253 187   0   0   0   0   0   0   0   0]\n",
            " [  0   0   0   0   0   0   0   0   0   0   0   0   0   0   0   0   0 249 253 249  64   0   0   0   0   0   0   0]\n",
            " [  0   0   0   0   0   0   0   0   0   0   0   0   0   0  46 130 183 253 253 207   2   0   0   0   0   0   0   0]\n",
            " [  0   0   0   0   0   0   0   0   0   0   0   0  39 148 229 253 253 253 250 182   0   0   0   0   0   0   0   0]\n",
            " [  0   0   0   0   0   0   0   0   0   0  24 114 221 253 253 253 253 201  78   0   0   0   0   0   0   0   0   0]\n",
            " [  0   0   0   0   0   0   0   0  23  66 213 253 253 253 253 198  81   2   0   0   0   0   0   0   0   0   0   0]\n",
            " [  0   0   0   0   0   0  18 171 219 253 253 253 253 195  80   9   0   0   0   0   0   0   0   0   0   0   0   0]\n",
            " [  0   0   0   0  55 172 226 253 253 253 253 244 133  11   0   0   0   0   0   0   0   0   0   0   0   0   0   0]\n",
            " [  0   0   0   0 136 253 253 253 212 135 132  16   0   0   0   0   0   0   0   0   0   0   0   0   0   0   0   0]\n",
            " [  0   0   0   0   0   0   0   0   0   0   0   0   0   0   0   0   0   0   0   0   0   0   0   0   0   0   0   0]\n",
            " [  0   0   0   0   0   0   0   0   0   0   0   0   0   0   0   0   0   0   0   0   0   0   0   0   0   0   0   0]\n",
            " [  0   0   0   0   0   0   0   0   0   0   0   0   0   0   0   0   0   0   0   0   0   0   0   0   0   0   0   0]]\n"
          ],
          "name": "stdout"
        },
        {
          "output_type": "execute_result",
          "data": {
            "text/plain": [
              "<matplotlib.image.AxesImage at 0x7f8fef65b320>"
            ]
          },
          "metadata": {
            "tags": []
          },
          "execution_count": 4
        },
        {
          "output_type": "display_data",
          "data": {
            "image/png": "[encoded data removed]",
            "text/plain": [
              "<Figure size 576x396 with 1 Axes>"
            ]
          },
          "metadata": {
            "tags": []
          }
        }
      ]
    },
    {
      "metadata": {
        "id": "ghHebeJ3ZQFN",
        "colab_type": "code",
        "outputId": "19279dca-8291-4e3a-cb4d-3801316a6548",
        "colab": {
          "base_uri": "https://localhost:8080/",
          "height": 102
        }
      },
      "cell_type": "code",
      "source": [
        "images_train = x_train.reshape([-1,784]) / 255.0\n",
        "images_test = x_test.reshape([-1,784]) / 255.0\n",
        "\n",
        "with tf.Session() as sess:\n",
        "  labels_train = sess.run(tf.one_hot(y_train, depth=10))\n",
        "  labels_test = sess.run(tf.one_hot(y_test, depth=10))\n",
        "    \n",
        "print(labels_train[0])\n",
        "\n",
        "print(images_train.shape)\n",
        "print(images_test.shape)\n",
        "print(labels_train.shape)\n",
        "print(labels_test.shape)"
      ],
      "execution_count": 5,
      "outputs": [
        {
          "output_type": "stream",
          "text": [
            "[0. 0. 0. 0. 0. 1. 0. 0. 0. 0.]\n",
            "(60000, 784)\n",
            "(10000, 784)\n",
            "(60000, 10)\n",
            "(10000, 10)\n"
          ],
          "name": "stdout"
        }
      ]
    },
    {
      "metadata": {
        "id": "CI9GwiNxfxaI",
        "colab_type": "code",
        "colab": {}
      },
      "cell_type": "code",
      "source": [
        "X = tf.placeholder(dtype=tf.float32, shape=[None, 784])\n",
        "T = tf.placeholder(dtype=tf.float32, shape=[None, 10])\n",
        "\n",
        "image = tf.reshape(X, shape=[-1,28,28,1])\n",
        "conv1 = tf.layers.conv2d(image, filters=2, kernel_size=(3,3), padding=\"same\", activation=tf.nn.relu)\n",
        "pool1 = tf.layers.max_pooling2d(conv1, pool_size=(2,2), strides=(2,2))\n",
        "conv2 = tf.layers.conv2d(pool1, filters=16, kernel_size=(3,3), padding=\"same\", activation=tf.nn.relu)\n",
        "pool2 = tf.layers.max_pooling2d(conv2, pool_size=(2,2), strides=(2,2))\n",
        "flat = tf.layers.flatten(pool2)\n",
        "logits = tf.layers.dense(flat, 10)\n",
        "loss = tf.nn.softmax_cross_entropy_with_logits_v2(logits=logits, labels=T)\n",
        "\n",
        "train_step = tf.train.GradientDescentOptimizer(learning_rate=0.0005).minimize(loss)\n",
        "\n",
        "probabilities = tf.nn.softmax(logits)\n",
        "pred_class = tf.argmax(probabilities, axis=1)\n",
        "target_class = tf.argmax(T, axis=1)\n",
        "correct_preds = tf.equal(pred_class, target_class)\n",
        "accuracy_op = tf.reduce_mean(tf.cast(correct_preds, tf.float32))"
      ],
      "execution_count": 0,
      "outputs": []
    },
    {
      "metadata": {
        "id": "gVoAeNo7lle7",
        "colab_type": "code",
        "outputId": "28b0b84e-29fa-44ee-e7a5-e5adb23e22dc",
        "colab": {
          "base_uri": "https://localhost:8080/",
          "height": 187
        }
      },
      "cell_type": "code",
      "source": [
        "batch_size = 250\n",
        "\n",
        "with tf.Session() as sess:\n",
        "  sess.run(tf.global_variables_initializer())\n",
        "  \n",
        "  iterations = 10\n",
        "  for i in range(iterations):\n",
        "    \n",
        "    for b in range(0, len(images_train), batch_size):\n",
        "      images_batch = images_train[b : b+batch_size]\n",
        "      labels_batch = labels_train[b : b+batch_size]\n",
        "      sess.run(train_step, feed_dict={X: images_batch, T: labels_batch})\n",
        "    \n",
        "    accuracy = sess.run(accuracy_op, feed_dict={X: images_test, T: labels_test})\n",
        "    print(\"Iteration: {0}, accuracy: {1:.2f}\".format(i, accuracy))\n",
        "    "
      ],
      "execution_count": 11,
      "outputs": [
        {
          "output_type": "stream",
          "text": [
            "Iteration: 0, accuracy: 0.94\n",
            "Iteration: 1, accuracy: 0.96\n",
            "Iteration: 2, accuracy: 0.97\n",
            "Iteration: 3, accuracy: 0.97\n",
            "Iteration: 4, accuracy: 0.97\n",
            "Iteration: 5, accuracy: 0.98\n",
            "Iteration: 6, accuracy: 0.98\n",
            "Iteration: 7, accuracy: 0.98\n",
            "Iteration: 8, accuracy: 0.98\n",
            "Iteration: 9, accuracy: 0.98\n"
          ],
          "name": "stdout"
        }
      ]
    }
  ]
}